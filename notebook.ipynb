{
 "cells": [
  {
   "cell_type": "code",
   "id": "initial_id",
   "metadata": {
    "collapsed": true,
    "ExecuteTime": {
     "end_time": "2025-02-04T08:20:53.137084Z",
     "start_time": "2025-02-04T08:20:53.122586Z"
    }
   },
   "source": "MODEL = \"llama2\"",
   "outputs": [],
   "execution_count": 1
  },
  {
   "metadata": {
    "ExecuteTime": {
     "end_time": "2025-02-04T08:40:54.747371Z",
     "start_time": "2025-02-04T08:40:54.744657Z"
    }
   },
   "cell_type": "code",
   "source": [
    "from langchain_community.llms import Ollama\n",
    "from langchain_community.embeddings import OllamaEmbeddings\n",
    "\n",
    "model = Ollama(model=MODEL)\n",
    "embeddings = OllamaEmbeddings()\n",
    "\n",
    "# model.invoke(\"Tell me a joke?\")"
   ],
   "id": "f6eb84c686026279",
   "outputs": [],
   "execution_count": 12
  },
  {
   "metadata": {
    "ExecuteTime": {
     "end_time": "2025-02-04T08:26:26.621512Z",
     "start_time": "2025-02-04T08:26:21.622186Z"
    }
   },
   "cell_type": "code",
   "source": [
    "from langchain_core.output_parsers import StrOutputParser\n",
    "\n",
    "parser = StrOutputParser()\n",
    "\n",
    "chain = model | parser\n",
    "chain.invoke(\"Tell me a joke?\")"
   ],
   "id": "1581b439b36f9d13",
   "outputs": [
    {
     "data": {
      "text/plain": [
       "\"\\nWhy don't scientists trust atoms? Because they make up everything! 😂\""
      ]
     },
     "execution_count": 5,
     "metadata": {},
     "output_type": "execute_result"
    }
   ],
   "execution_count": 5
  },
  {
   "metadata": {
    "ExecuteTime": {
     "end_time": "2025-02-04T08:30:15.704613Z",
     "start_time": "2025-02-04T08:30:15.492148Z"
    }
   },
   "cell_type": "code",
   "source": [
    "from langchain_community.document_loaders import PyPDFLoader\n",
    "\n",
    "loader = PyPDFLoader(\"cv.pdf\")\n",
    "\n",
    "pages = loader.load_and_split()\n",
    "\n",
    "pages"
   ],
   "id": "ea172861cd2f441a",
   "outputs": [
    {
     "data": {
      "text/plain": [
       "[Document(metadata={'source': 'cv.pdf', 'page': 0, 'page_label': '1'}, page_content='Sr. Python Engineer | Sr. Full Stack Engineer | Sr. Backend Developer \\n \\nEmail:    dontay.mobley.7p@outlook.com                 Contact Number: +1717 456 0046 \\nLocation: Philadelphia, PA     Work Authorization: US citizen \\n \\nPROFESSIONAL SUMMARY \\n\\uf06c Over 10 years of experience in Design, Development and Deployment of Python applications. \\n\\uf06c Developed backend modules using Python on Django, Flask Web Framework using ORM models. \\n\\uf06c Developed ETL jobs in Python to extract and load data into various databases. \\n\\uf06c Used Test driven approach for developing the application and Implemented the unit tests using Python \\nUnit test framework.  \\n\\uf06c Expertise in working with Perl and Shell scripting for designing automation framework. \\n\\uf06c Good experience in developing web applications and implementing Model View Control (MVC) \\narchitecture using server - side applications like Django, Flask. \\n\\uf06c Managed and reviewed Hadoop log file and worked in analysing SQL scripts and designed the solution \\nfor the process using PySpark. \\n\\uf06c Extensive experience working in SaaS, laas. \\n\\uf06c Developed Dynamic and static queries for Microsoft SQL server, worked on complex inner and outer \\njoins.  \\n\\uf06c Analyzed and improved the performance of various queries and stored procedures. \\n\\uf06c Expertise in configuration, logging and exceptional handling. \\n\\uf06c Experience in agile environment using a CI/CD model methodology. \\n\\uf06c Designed front end using HTML, Bootstrap, Node JS, CSS, and JavaScript. \\n\\uf06c Experience in Core Java and Object Oriented Programming using concepts like Multi-Threading, \\nException Handling and Collections \\n\\uf06c Worked on client-server architecture based enterprise application software in Python, Java. \\n\\uf06c Developed the required XML Schema documents and implemented the framework for parsing XML \\ndocuments. \\n\\uf06c Worked on various applications using python integrated IDES Eclipse, PyCharm, NetBeans and Eclipse. \\n\\uf06c Used various debuggers like pdb, gdb and static analysis tools like pylint, Coverity. \\n\\uf06c Involved in the Complete Software development life cycle (SDLC) to develop the application. \\n\\uf06c Worked on projects designed with agile/scrum and waterfall methodologies, high-quality deliverables \\ndelivered on-time.'),\n",
       " Document(metadata={'source': 'cv.pdf', 'page': 1, 'page_label': '2'}, page_content=\"TECHNICAL SKILLS \\n\\uf06c Programming Languages: Python, C, C++, Java Shell scripting, Perl \\n\\uf06c Databases: MySQL, Oracle, Mongo DB, Redis, Cassandra \\n\\uf06c Web Technologies: CSS, HTML5, JS, JQuery, REST, JSON, Django, Flask, MVC, React, Angular, Vue, \\nNode.js \\n\\uf06c Operating Systems: Windows, Linux, Solaris, RHEL. \\n\\uf06c Tools & Servers.: Jenkins, WebSphere, Apache Active MQ, pylint, coverity, pdb, gdb, \\n\\uf06c Python Libraries: Scikit- learn, Numpy, Scipy, Matplotlib, Pandas, Regression and Classification \\nAlgorithms \\n\\uf06c Database: PostgreSQL, MySQL, MongoDB, DynamoDB, Oracle \\n\\uf06c Serverless: AWS Lambda, Azure Functions, Google Cloud Functions \\n\\uf06c Devops: Docker, Kubernetics, Azure Devops, Docker Swarm, CI/CD, Terraform, Helm \\n \\n \\n \\nPROFESSIONAL EXPERIENCE  \\n \\nMicrosoft, Philadelphia, PA                                      Jun 2021 - Present \\nSenior Python Full Stack Engineer  \\n  \\nResponsibilities: \\n \\n\\uf0b7 Understand the user requirements and breakdown the tasks accordingly to implement in timely manner. \\n\\uf0b7 Utilized Django Web Framework for creating web applications utilizing model view control engineering \\n\\uf0b7 Build the REST API's using Django and integrate with the Angular  14 on AWS service. \\n\\uf0b7 Experienced working with Django and PostgreSQL. \\n\\uf0b7 Worked with Django user management modules to create authenticated application \\n\\uf0b7 Experienced working with GIT, version control to commit the changes and follow the workflow. \\n\\uf0b7 Wrote Python scripts to parse JSON documents and load the data in PostgreSQL database.  \\n\\uf0b7 Worked on the backend application by using Django Web Framework to create API's.  \\n\\uf0b7 Knowledge in integrating the backend and front, sorting the issues and bugs during integration.  \\n\\uf0b7 Worked with JIRA to manage the issues, track the bugs and prioritize the issues. \\n\\uf0b7 Used Django API's to access the database \\n\\uf0b7 Experience in working with TDD/BDD environments and Scrum development lifecycle. \\n\\uf0b7 Worked with IDE's and also testing the API calls using postman before integrating with the front end. \\n\\uf0b7 Experienced in documenting the API's using tools like swagger. \\n\\uf0b7 Good knowledge of scrum and agile methodologies.\"),\n",
       " Document(metadata={'source': 'cv.pdf', 'page': 2, 'page_label': '3'}, page_content=\"\\uf0b7 Worked on communication platforms like Slack, Microsoft Teams to share files and communicate among \\nthe team. \\n \\nAdobe, Columbia, SC                                Apr 2016 – Apr 2021                                             \\nSenior Software Engineer  \\n \\nResponsibilities: \\n\\uf0b7 Designed and developed Django REST Services with ORM models along with templates. \\n\\uf0b7 Implemented Business logic, data exchange, and XML processing and graph creation using Python. \\n\\uf0b7 Designed and Developed Oracle Stored Procedures and UNIX Shell Scripts for Data Import/Export and \\nConversions \\n\\uf0b7 Developed views and templates with Python and Django's view controller and templating language to \\ncreated user-friendly website interface. \\n\\uf0b7 Worked on React/Next.js framework for frontend development \\n\\uf0b7 Created unit test/regression test framework and scripts for testing various modules. \\n\\uf0b7 Extensively used Python requests urllib and urllib2 module to call web services. \\n\\uf0b7 Used NumPy for numerical analysis & matplotlib libraries part of sci-py kit to do data analysis and \\nplotting. \\n\\uf0b7 Developed user interfaces using CSS, HTML, JavaScript, JQuery, JSON, bootstrap, Node.js, Angular.js. \\n\\uf0b7 Experienced in building a Command line tool to interact with RESTful API using in Golang \\n\\uf0b7 Used Go Programming Language (GoLang) and Scala in the development of the application. \\n\\uf0b7 Developed scripts in Python and Excel VBA to automate the data analysis, generating statistics isolating \\ntrends in memory failures \\n\\uf0b7 Analysed data using Excel VBA scripts \\n\\uf0b7 Worked with Perl, shell scripting (bash) to automate administration tasks. \\n\\uf0b7 Designed, developed, implemented, and maintained solutions for using Docker, Jenkins, GIT, Puppet for \\nmicro services and continuous deployment. \\n\\uf0b7 Expertise python scripting with focus on DevOps tools, CI/CD and AWS Cloud Architecture. \\n\\uf0b7 A Django dashboard with custom look and feel for end user has been created after a careful study of the \\nDjango admin site and dashboard. \\n\\uf0b7 Developing software in Python, C# and web development frameworks such as Flask \\n\\uf0b7 Developed test scripts in Python that are used to test embedded systems via their debug UART port. \\n\\uf0b7 Used SOAP and Restful API for information extraction. \\n\\uf0b7 Developed Views and Templates with Python and to create a user-friendly website interface Django's \\nview controller and template. \\n\\uf0b7 Designed and developed data management system using NoSQL, Mongo DB, and MySQL. \\n\\uf0b7 Used Unit Test library for testing python and other programs. \\n\\uf0b7 Developed Network modules, Socket programming and Web server hosting capabilities of Python for \\nsome applications (ex. IoT devices).\"),\n",
       " Document(metadata={'source': 'cv.pdf', 'page': 3, 'page_label': '4'}, page_content='\\uf0b7 Resolved ongoing problems and accurately documented progress of Python project. \\n\\uf0b7 JIRA was used for agile/scrum process tracking and tracking the status of development. \\n\\uf0b7 Different testing methodologies like unit testing, Integration testing, web application testing, selenium \\ntesting were performed.  \\n \\nMphasis, San Ramon, CA                                  Nov 2011 – Feb 2016 \\nFull Stack Developer  \\n     \\nResponsibilities: \\n \\n\\uf0b7 Worked on creating responsive website for smart devices using Responsive design and media queries. \\n\\uf0b7 Utilized MVC, Prototype and Singleton JavaScript patterns to develop application Coded front end \\ninterface with Bootstrap, ReactJS, CSS, JS and HTML5. \\n\\uf0b7 Developed a user-friendly interface to seamlessly combine the new module with the existing login \\nsystem by using ReactJS. \\n\\uf0b7 Used ReactJS framework to bind HTML (views) to JavaScript objects (models). \\n\\uf0b7 Employed C# and JavaScript, XML to create automatic documentation generator tools, facilitating the \\nvalidation, rating, and updating of documentation for customer integration with third-party services. \\n\\uf0b7 Developed robust integration tests using C# and NUnit containers to ensure accurate and reliable \\ndocumentation examples, ensuring optimal integration with third-party services. \\n\\uf0b7 Developed robust and user-friendly applications using .NET Web and Windows Forms. \\n\\uf0b7 Generated Python Django forms to record data of online users and used PyTest for writing test cases. \\n\\uf0b7 Wrote Automation test cases using Selenium WebDriver using Python API. \\n\\uf0b7 Worked with CSS Icons, CSS Pseudo-class, CSS Pseudo-element, CSS Image Sprites, CSS background and \\nCSS3 Shadows to give some additional effects. \\n\\uf0b7 Worked on Responsive Web Design using Bootstrap Grids system and CSS3 Media Query. \\n\\uf0b7 Developed experience using jQuery, AJAX, JSON, XML to achieve data parsing between pages. \\n\\uf0b7 Good knowledge of debugging JavaScript and html code with Firefox Firebug and Google chrome \\nJavaScript debugger. \\n\\uf0b7 Developed and maintained automated CI/CD pipelines for code development using Jenkins. \\n\\uf0b7 Used AJAX and jQuery for service calls on pages to interact with the server for information. \\n\\uf0b7 Analyzed and gathered business requirements specifications by interacting with client and understanding \\nbusiness requirement specification documents. \\n\\uf0b7 Designed Data Quality Framework to perform schema validation and data profiling on Spark (Pyspark) \\n\\uf0b7 Implemented web applications in Flask frame works following MVC architecture.  \\n\\uf0b7 Used Angular 8 as the development framework to build a single-page application. \\n\\uf0b7 Used Celery with RabbitMQ, MySQL, Django, and Flask to create a distributed worker framework. \\n\\uf0b7 Implemented SQL Alchemy which is a python library for complete access over SQL. \\n\\uf0b7 Developing applications using RESTFUL architecture using Node.js and PHP as backend languages.'),\n",
       " Document(metadata={'source': 'cv.pdf', 'page': 4, 'page_label': '5'}, page_content='\\uf0b7 Designed and maintained databases using Python and developed Python based API (RESTful Web \\nService) using Flask, SQLAlchemy and PostgreSQL. \\n\\uf0b7 Implemented JSON Schema for validating the structure of JSON data. \\n\\uf0b7 Successfully migrated the Django database from SQLite to MySQL to PostgreSQL with complete data \\nintegrity.  \\n\\uf0b7 Created Automation test framework using Selenium. \\n\\uf0b7 Implemented monitoring and established best practices around using elastic search. \\n\\uf0b7 Followed AGILE development methodology to develop the application. \\n\\uf0b7 Used Test driven approach (TDD) for developing services required for the application. \\n \\n \\n \\n \\nEDUCATION \\nUniversity of South Carolina                2007 – 2011 \\nBachelor’s Degree in Computer Science')]"
      ]
     },
     "execution_count": 7,
     "metadata": {},
     "output_type": "execute_result"
    }
   ],
   "execution_count": 7
  },
  {
   "metadata": {
    "ExecuteTime": {
     "end_time": "2025-02-04T08:32:19.802152Z",
     "start_time": "2025-02-04T08:32:19.711634Z"
    }
   },
   "cell_type": "code",
   "source": [
    "from langchain.prompts import PromptTemplate\n",
    "\n",
    "template = \"\"\"\n",
    "Answer the question based on the context below. If you can't answer the question, reply \"I don't know.\"\n",
    "\n",
    "Context: {context}\n",
    "\n",
    "Question: {question}\n",
    "\n",
    "\"\"\"\n",
    "\n",
    "prompt = PromptTemplate.from_template(template)\n",
    "prompt.format(context=\"Here is some context\", question=\"What is your name?\")\n"
   ],
   "id": "26b0cdcdd2f2b7f1",
   "outputs": [
    {
     "data": {
      "text/plain": [
       "'\\nAnswer the question based on the context below. If you can\\'t answer the question, reply \"I don\\'t know.\"\\n\\nContext: Here is some context\\n\\nQuestion: What is your name?\\n\\n'"
      ]
     },
     "execution_count": 8,
     "metadata": {},
     "output_type": "execute_result"
    }
   ],
   "execution_count": 8
  },
  {
   "metadata": {
    "ExecuteTime": {
     "end_time": "2025-02-04T08:33:25.138253Z",
     "start_time": "2025-02-04T08:33:25.135657Z"
    }
   },
   "cell_type": "code",
   "source": "chain = prompt | model | parser",
   "id": "13acfa5904f74196",
   "outputs": [],
   "execution_count": 9
  },
  {
   "metadata": {
    "ExecuteTime": {
     "end_time": "2025-02-04T08:34:30.087461Z",
     "start_time": "2025-02-04T08:34:05.243501Z"
    }
   },
   "cell_type": "code",
   "source": [
    "chain.invoke({\n",
    "    \"context\": \"The name I was given is Ali\",\n",
    "    \"question\": \"What is your name?\", \n",
    "})"
   ],
   "id": "302e1ed9d32d0e23",
   "outputs": [
    {
     "data": {
      "text/plain": [
       "' Of course! Based on the context you provided, the answer to the question \"What is your name?\" is \"Ali\".'"
      ]
     },
     "execution_count": 10,
     "metadata": {},
     "output_type": "execute_result"
    }
   ],
   "execution_count": 10
  },
  {
   "metadata": {
    "ExecuteTime": {
     "end_time": "2025-02-04T08:47:31.191317Z",
     "start_time": "2025-02-04T08:41:26.292387Z"
    }
   },
   "cell_type": "code",
   "source": [
    "from langchain_community.vectorstores import DocArrayInMemorySearch\n",
    "\n",
    "vectorstore = DocArrayInMemorySearch.from_documents(\n",
    "    pages,\n",
    "    embedding=embeddings\n",
    ")"
   ],
   "id": "a3ab009a83af7556",
   "outputs": [
    {
     "name": "stderr",
     "output_type": "stream",
     "text": [
      "/home/syed-haider-ali-zaidi/PycharmProjects/LlamaLens/.venv/lib/python3.12/site-packages/pydantic/_migration.py:283: UserWarning: `pydantic.error_wrappers:ValidationError` has been moved to `pydantic:ValidationError`.\n",
      "  warnings.warn(f'`{import_path}` has been moved to `{new_location}`.')\n"
     ]
    }
   ],
   "execution_count": 14
  },
  {
   "metadata": {
    "ExecuteTime": {
     "end_time": "2025-02-04T10:20:38.724862Z",
     "start_time": "2025-02-04T10:20:37.720634Z"
    }
   },
   "cell_type": "code",
   "source": [
    "retriever = vectorstore.as_retriever()\n",
    "retriever.invoke(\"Expertise in Machine Learning\")"
   ],
   "id": "707a5b196766afed",
   "outputs": [
    {
     "data": {
      "text/plain": [
       "[Document(metadata={'source': 'cv.pdf', 'page': 4, 'page_label': '5'}, page_content='\\uf0b7 Designed and maintained databases using Python and developed Python based API (RESTful Web \\nService) using Flask, SQLAlchemy and PostgreSQL. \\n\\uf0b7 Implemented JSON Schema for validating the structure of JSON data. \\n\\uf0b7 Successfully migrated the Django database from SQLite to MySQL to PostgreSQL with complete data \\nintegrity.  \\n\\uf0b7 Created Automation test framework using Selenium. \\n\\uf0b7 Implemented monitoring and established best practices around using elastic search. \\n\\uf0b7 Followed AGILE development methodology to develop the application. \\n\\uf0b7 Used Test driven approach (TDD) for developing services required for the application. \\n \\n \\n \\n \\nEDUCATION \\nUniversity of South Carolina                2007 – 2011 \\nBachelor’s Degree in Computer Science'),\n",
       " Document(metadata={'source': 'cv.pdf', 'page': 0, 'page_label': '1'}, page_content='Sr. Python Engineer | Sr. Full Stack Engineer | Sr. Backend Developer \\n \\nEmail:    dontay.mobley.7p@outlook.com                 Contact Number: +1717 456 0046 \\nLocation: Philadelphia, PA     Work Authorization: US citizen \\n \\nPROFESSIONAL SUMMARY \\n\\uf06c Over 10 years of experience in Design, Development and Deployment of Python applications. \\n\\uf06c Developed backend modules using Python on Django, Flask Web Framework using ORM models. \\n\\uf06c Developed ETL jobs in Python to extract and load data into various databases. \\n\\uf06c Used Test driven approach for developing the application and Implemented the unit tests using Python \\nUnit test framework.  \\n\\uf06c Expertise in working with Perl and Shell scripting for designing automation framework. \\n\\uf06c Good experience in developing web applications and implementing Model View Control (MVC) \\narchitecture using server - side applications like Django, Flask. \\n\\uf06c Managed and reviewed Hadoop log file and worked in analysing SQL scripts and designed the solution \\nfor the process using PySpark. \\n\\uf06c Extensive experience working in SaaS, laas. \\n\\uf06c Developed Dynamic and static queries for Microsoft SQL server, worked on complex inner and outer \\njoins.  \\n\\uf06c Analyzed and improved the performance of various queries and stored procedures. \\n\\uf06c Expertise in configuration, logging and exceptional handling. \\n\\uf06c Experience in agile environment using a CI/CD model methodology. \\n\\uf06c Designed front end using HTML, Bootstrap, Node JS, CSS, and JavaScript. \\n\\uf06c Experience in Core Java and Object Oriented Programming using concepts like Multi-Threading, \\nException Handling and Collections \\n\\uf06c Worked on client-server architecture based enterprise application software in Python, Java. \\n\\uf06c Developed the required XML Schema documents and implemented the framework for parsing XML \\ndocuments. \\n\\uf06c Worked on various applications using python integrated IDES Eclipse, PyCharm, NetBeans and Eclipse. \\n\\uf06c Used various debuggers like pdb, gdb and static analysis tools like pylint, Coverity. \\n\\uf06c Involved in the Complete Software development life cycle (SDLC) to develop the application. \\n\\uf06c Worked on projects designed with agile/scrum and waterfall methodologies, high-quality deliverables \\ndelivered on-time.'),\n",
       " Document(metadata={'source': 'cv.pdf', 'page': 2, 'page_label': '3'}, page_content=\"\\uf0b7 Worked on communication platforms like Slack, Microsoft Teams to share files and communicate among \\nthe team. \\n \\nAdobe, Columbia, SC                                Apr 2016 – Apr 2021                                             \\nSenior Software Engineer  \\n \\nResponsibilities: \\n\\uf0b7 Designed and developed Django REST Services with ORM models along with templates. \\n\\uf0b7 Implemented Business logic, data exchange, and XML processing and graph creation using Python. \\n\\uf0b7 Designed and Developed Oracle Stored Procedures and UNIX Shell Scripts for Data Import/Export and \\nConversions \\n\\uf0b7 Developed views and templates with Python and Django's view controller and templating language to \\ncreated user-friendly website interface. \\n\\uf0b7 Worked on React/Next.js framework for frontend development \\n\\uf0b7 Created unit test/regression test framework and scripts for testing various modules. \\n\\uf0b7 Extensively used Python requests urllib and urllib2 module to call web services. \\n\\uf0b7 Used NumPy for numerical analysis & matplotlib libraries part of sci-py kit to do data analysis and \\nplotting. \\n\\uf0b7 Developed user interfaces using CSS, HTML, JavaScript, JQuery, JSON, bootstrap, Node.js, Angular.js. \\n\\uf0b7 Experienced in building a Command line tool to interact with RESTful API using in Golang \\n\\uf0b7 Used Go Programming Language (GoLang) and Scala in the development of the application. \\n\\uf0b7 Developed scripts in Python and Excel VBA to automate the data analysis, generating statistics isolating \\ntrends in memory failures \\n\\uf0b7 Analysed data using Excel VBA scripts \\n\\uf0b7 Worked with Perl, shell scripting (bash) to automate administration tasks. \\n\\uf0b7 Designed, developed, implemented, and maintained solutions for using Docker, Jenkins, GIT, Puppet for \\nmicro services and continuous deployment. \\n\\uf0b7 Expertise python scripting with focus on DevOps tools, CI/CD and AWS Cloud Architecture. \\n\\uf0b7 A Django dashboard with custom look and feel for end user has been created after a careful study of the \\nDjango admin site and dashboard. \\n\\uf0b7 Developing software in Python, C# and web development frameworks such as Flask \\n\\uf0b7 Developed test scripts in Python that are used to test embedded systems via their debug UART port. \\n\\uf0b7 Used SOAP and Restful API for information extraction. \\n\\uf0b7 Developed Views and Templates with Python and to create a user-friendly website interface Django's \\nview controller and template. \\n\\uf0b7 Designed and developed data management system using NoSQL, Mongo DB, and MySQL. \\n\\uf0b7 Used Unit Test library for testing python and other programs. \\n\\uf0b7 Developed Network modules, Socket programming and Web server hosting capabilities of Python for \\nsome applications (ex. IoT devices).\"),\n",
       " Document(metadata={'source': 'cv.pdf', 'page': 1, 'page_label': '2'}, page_content=\"TECHNICAL SKILLS \\n\\uf06c Programming Languages: Python, C, C++, Java Shell scripting, Perl \\n\\uf06c Databases: MySQL, Oracle, Mongo DB, Redis, Cassandra \\n\\uf06c Web Technologies: CSS, HTML5, JS, JQuery, REST, JSON, Django, Flask, MVC, React, Angular, Vue, \\nNode.js \\n\\uf06c Operating Systems: Windows, Linux, Solaris, RHEL. \\n\\uf06c Tools & Servers.: Jenkins, WebSphere, Apache Active MQ, pylint, coverity, pdb, gdb, \\n\\uf06c Python Libraries: Scikit- learn, Numpy, Scipy, Matplotlib, Pandas, Regression and Classification \\nAlgorithms \\n\\uf06c Database: PostgreSQL, MySQL, MongoDB, DynamoDB, Oracle \\n\\uf06c Serverless: AWS Lambda, Azure Functions, Google Cloud Functions \\n\\uf06c Devops: Docker, Kubernetics, Azure Devops, Docker Swarm, CI/CD, Terraform, Helm \\n \\n \\n \\nPROFESSIONAL EXPERIENCE  \\n \\nMicrosoft, Philadelphia, PA                                      Jun 2021 - Present \\nSenior Python Full Stack Engineer  \\n  \\nResponsibilities: \\n \\n\\uf0b7 Understand the user requirements and breakdown the tasks accordingly to implement in timely manner. \\n\\uf0b7 Utilized Django Web Framework for creating web applications utilizing model view control engineering \\n\\uf0b7 Build the REST API's using Django and integrate with the Angular  14 on AWS service. \\n\\uf0b7 Experienced working with Django and PostgreSQL. \\n\\uf0b7 Worked with Django user management modules to create authenticated application \\n\\uf0b7 Experienced working with GIT, version control to commit the changes and follow the workflow. \\n\\uf0b7 Wrote Python scripts to parse JSON documents and load the data in PostgreSQL database.  \\n\\uf0b7 Worked on the backend application by using Django Web Framework to create API's.  \\n\\uf0b7 Knowledge in integrating the backend and front, sorting the issues and bugs during integration.  \\n\\uf0b7 Worked with JIRA to manage the issues, track the bugs and prioritize the issues. \\n\\uf0b7 Used Django API's to access the database \\n\\uf0b7 Experience in working with TDD/BDD environments and Scrum development lifecycle. \\n\\uf0b7 Worked with IDE's and also testing the API calls using postman before integrating with the front end. \\n\\uf0b7 Experienced in documenting the API's using tools like swagger. \\n\\uf0b7 Good knowledge of scrum and agile methodologies.\")]"
      ]
     },
     "execution_count": 17,
     "metadata": {},
     "output_type": "execute_result"
    }
   ],
   "execution_count": 17
  },
  {
   "metadata": {
    "ExecuteTime": {
     "end_time": "2025-02-04T10:38:26.611644Z",
     "start_time": "2025-02-04T10:31:11.562934Z"
    }
   },
   "cell_type": "code",
   "source": [
    "from operator import itemgetter\n",
    "chain = (\n",
    "    {\n",
    "        \"context\": itemgetter(\"question\") | retriever,\n",
    "        \"question\": itemgetter(\"question\"),\n",
    "    } |\n",
    "    prompt |\n",
    "    model |\n",
    "    parser\n",
    ")\n",
    "\n",
    "chain.invoke({\n",
    "    \"question\": \"Has he worked on Python?\",\n",
    "})"
   ],
   "id": "153d9f5d898da1b7",
   "outputs": [
    {
     "data": {
      "text/plain": [
       "\"Yes, based on his CV, he has worked extensively with Python. He has listed various projects and roles where he has used Python programming language, including:\\n\\n1. Senior Python Full Stack Engineer at Microsoft (Jun 2021 - Present)\\n\\t* Utilized Django Web Framework for creating web applications\\n\\t* Built REST API's using Django and integrated with Angular 14 on AWS service\\n\\t* Worked with Django user management modules to create authenticated application\\n\\t* Wrote Python scripts to parse JSON documents and load the data in PostgreSQL database\\n2. Full Stack Developer at ABC Company (Jun 2019 - Jun 2021)\\n\\t* Developed experience in working with TDD/BDD environments and Scrum development lifecycle\\n\\t* Used Django API's to access the database\\n\\t* Documented the API's using tools like swagger\\n3. Software Engineer at DEF Company (Jun 2017 - Jun 2019)\\n\\t* Worked with IDE's and also testing the API calls using postman before integrating with the front end\\n\\t* Experienced in documenting the API's using tools like swagger\\n4. Junior Software Engineer at GHI Company (Jun 2015 - Jun 2017)\\n\\t* Good knowledge of scrum and agile methodologies\\n\\nOverall, he has listed several projects and roles where he has used Python programming language, indicating that he has extensive experience in working with Python.\""
      ]
     },
     "execution_count": 20,
     "metadata": {},
     "output_type": "execute_result"
    }
   ],
   "execution_count": 20
  },
  {
   "metadata": {
    "ExecuteTime": {
     "end_time": "2025-02-04T10:38:26.658055Z",
     "start_time": "2025-02-04T10:38:26.654911Z"
    }
   },
   "cell_type": "code",
   "source": "itemgetter(\"question\")({\"question\": \"What is your name?\"})",
   "id": "210cd1d0d08b882e",
   "outputs": [
    {
     "data": {
      "text/plain": [
       "'What is your name?'"
      ]
     },
     "execution_count": 21,
     "metadata": {},
     "output_type": "execute_result"
    }
   ],
   "execution_count": 21
  },
  {
   "metadata": {
    "jupyter": {
     "is_executing": true
    },
    "ExecuteTime": {
     "start_time": "2025-02-04T10:38:26.705315Z"
    }
   },
   "cell_type": "code",
   "source": [
    "for s in chain.stream({\"question\": \"How many years of experience do the candidate have?\"}):\n",
    "    print(s, end=\"\", flush=True)"
   ],
   "id": "91caa857ef973cd8",
   "outputs": [],
   "execution_count": null
  }
 ],
 "metadata": {
  "kernelspec": {
   "display_name": "Python 3",
   "language": "python",
   "name": "python3"
  },
  "language_info": {
   "codemirror_mode": {
    "name": "ipython",
    "version": 2
   },
   "file_extension": ".py",
   "mimetype": "text/x-python",
   "name": "python",
   "nbconvert_exporter": "python",
   "pygments_lexer": "ipython2",
   "version": "2.7.6"
  }
 },
 "nbformat": 4,
 "nbformat_minor": 5
}
